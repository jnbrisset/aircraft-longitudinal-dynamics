{
 "cells": [
  {
   "cell_type": "markdown",
   "metadata": {},
   "source": [
    "# Aircraft longitudinal dynamics/"
   ]
  },
  {
   "cell_type": "code",
   "execution_count": 1,
   "metadata": {},
   "outputs": [],
   "source": [
    "import numpy as np\n",
    "from scipy import signal\n",
    "import matplotlib.pyplot as plt"
   ]
  },
  {
   "cell_type": "markdown",
   "metadata": {},
   "source": [
    "State representation of the longitudinal dynamics\n",
    "$$\n",
    "\\begin{vmatrix}\n",
    "\\dot{u} \\\\ \\dot{w} \\\\ \\dot{q} \\\\ \\dot{\\theta}\n",
    "\\end{vmatrix}\n",
    "= \n",
    "\\begin{vmatrix}\n",
    "\\frac{\\partial{X}}{\\partial{u}} & \\frac{\\partial{X}}{\\partial{w}} & \\frac{\\partial{X}}{\\partial{q}} & \\frac{\\partial{X}}{\\partial{\\theta}} \\\\ \n",
    "\\frac{\\partial{Z}}{\\partial{u}} & \\frac{\\partial{Z}}{\\partial{w}} & \\frac{\\partial{Z}}{\\partial{q}} & \\frac{\\partial{Z}}{\\partial{\\theta}} \\\\ \n",
    "\\frac{\\partial{M}}{\\partial{u}} & \\frac{\\partial{M}}{\\partial{w}} & \\frac{\\partial{M}}{\\partial{q}} & \\frac{\\partial{M}}{\\partial{\\theta}} \\\\ \n",
    "0 & 0 & 0 & 1\n",
    "\\end{vmatrix}\n",
    "\\begin{vmatrix}\n",
    "u \\\\ w \\\\ q \\\\ \\theta\n",
    "\\end{vmatrix}\n",
    "+ \\begin{vmatrix}\n",
    "\\frac{\\partial{X}}{\\partial{\\delta_e}} \\\\ \\frac{\\partial{Z}}{\\partial{\\delta_e}} \\\\ \\frac{\\partial{M}}{\\partial{\\delta_e}} \\\\ \\frac{\\partial{\\theta}}{\\partial{\\delta_e}}\n",
    "\\end{vmatrix}\n",
    "$$\n",
    "$$\n",
    "y = C \\vec{X} + D =\n",
    "\\begin{vmatrix}\n",
    "0 & 0 & 0 & 1\n",
    "\\end{vmatrix}\n",
    " \\vec{X} = \\theta\n",
    "$$\n",
    "The only output we are interested in is the pitch angle $\\theta$."
   ]
  },
  {
   "cell_type": "code",
   "execution_count": 2,
   "metadata": {},
   "outputs": [],
   "source": [
    "A = np.array([[-0.045, 0.036, 0.0, -32.2],\n",
    "             [-0.369, -2.02, 176.0, 0.0],\n",
    "             [0.0019, -0.0396, -2.948, 0.0],\n",
    "             [0.0, 0.0, 1.0, 0.0]])\n",
    "\n",
    "B = np.array([0, -10, -2.8, 0]).reshape(4,1)\n",
    "\n",
    "C = np.array([0, 0, 0, 180.0/3.14159])\n",
    "\n",
    "D = np.array([0])"
   ]
  },
  {
   "cell_type": "code",
   "execution_count": 3,
   "metadata": {},
   "outputs": [],
   "source": [
    "state_space_system = signal.StateSpace(A, B, C, D)"
   ]
  },
  {
   "cell_type": "markdown",
   "metadata": {},
   "source": [
    "The eigenvalues of the matrix A is also equal to the poles of the system."
   ]
  },
  {
   "cell_type": "code",
   "execution_count": 5,
   "metadata": {},
   "outputs": [
    {
     "data": {
      "text/plain": [
       "array([-2.48945125+2.59776377j, -2.48945125-2.59776377j,\n",
       "       -0.01704875+0.21354412j, -0.01704875-0.21354412j])"
      ]
     },
     "execution_count": 5,
     "metadata": {},
     "output_type": "execute_result"
    }
   ],
   "source": [
    "state_space_system.poles"
   ]
  },
  {
   "cell_type": "code",
   "execution_count": 6,
   "metadata": {},
   "outputs": [
    {
     "data": {
      "text/plain": [
       "((12.945744134387773+0j), (-4.978902502919805+0j))"
      ]
     },
     "execution_count": 6,
     "metadata": {},
     "output_type": "execute_result"
    }
   ],
   "source": [
    "state_space_system.poles[0] * state_space_system.poles[1], state_space_system.poles[0] + state_space_system.poles[1]"
   ]
  },
  {
   "cell_type": "code",
   "execution_count": 7,
   "metadata": {},
   "outputs": [
    {
     "data": {
      "text/plain": [
       "(-9.95780500583961+0j)"
      ]
     },
     "execution_count": 7,
     "metadata": {},
     "output_type": "execute_result"
    }
   ],
   "source": [
    "np.sum(state_space_system.poles[0:2])*2"
   ]
  },
  {
   "cell_type": "markdown",
   "metadata": {},
   "source": [
    "Phugoid frequency $f_{ph}$ and damping ratio $\\zeta_{ph}$"
   ]
  },
  {
   "cell_type": "code",
   "execution_count": 8,
   "metadata": {},
   "outputs": [
    {
     "data": {
      "text/plain": [
       "(29.423333820414808, -0.07958389414693409)"
      ]
     },
     "execution_count": 8,
     "metadata": {},
     "output_type": "execute_result"
    }
   ],
   "source": [
    "w_nph = np.sqrt(state_space_system.poles[2]*state_space_system.poles[3])\n",
    "zeta_ph = np.sum(state_space_system.poles[2:])/w_nph/2\n",
    "f_ph = 2*3.14159/(w_nph*np.sqrt(1-zeta_ph**2))\n",
    "f_ph.real, zeta_ph.real"
   ]
  },
  {
   "cell_type": "markdown",
   "metadata": {},
   "source": [
    "$$ f_p = 29.4s $$\n",
    "$$ \\zeta_p = -0.080 $$\n",
    "The timing between each peak of the oscillation is 29.4s and the decay of the oscillation is rather slow with a damping ratio of -0.080."
   ]
  },
  {
   "cell_type": "markdown",
   "metadata": {},
   "source": [
    "Short period oscillation frequency $f_{sp}$ and damping ratio $\\zeta_{sp}$"
   ]
  },
  {
   "cell_type": "code",
   "execution_count": 9,
   "metadata": {},
   "outputs": [
    {
     "data": {
      "text/plain": [
       "((2.4186879785983852+0j), (-0.6918948798179853+0j))"
      ]
     },
     "execution_count": 9,
     "metadata": {},
     "output_type": "execute_result"
    }
   ],
   "source": [
    "w_nsp = np.sqrt(state_space_system.poles[0]*state_space_system.poles[1])\n",
    "zeta_sp = np.sum(state_space_system.poles[0:2])/w_nsp/2\n",
    "f_sp = 2*3.14159/(w_nsp*np.sqrt(1-zeta_sp**2))\n",
    "f_sp, zeta_sp"
   ]
  },
  {
   "cell_type": "markdown",
   "metadata": {},
   "source": [
    "$$ f_p = 2.42s $$\n",
    "$$ \\zeta_p = -0.692 $$"
   ]
  },
  {
   "cell_type": "markdown",
   "metadata": {},
   "source": [
    "The frequency is rather fast, resembling those found on GA aircrafts, and the damping ratio is high and is typically what we can expect."
   ]
  },
  {
   "cell_type": "markdown",
   "metadata": {},
   "source": [
    "Now, let's create a momentory input of 0.5s on the elevator, close to full deflection, to see the pitch angle response. Angle of the input on the elevator is in radian."
   ]
  },
  {
   "cell_type": "code",
   "execution_count": 10,
   "metadata": {},
   "outputs": [],
   "source": [
    "u_input = np.zeros((1000,1))\n",
    "u_input[0:5] = -0.5"
   ]
  },
  {
   "cell_type": "markdown",
   "metadata": {},
   "source": [
    "Use a vector T for time, 0 to 100s with 0.1s increments"
   ]
  },
  {
   "cell_type": "code",
   "execution_count": 11,
   "metadata": {},
   "outputs": [],
   "source": [
    "T = np.arange(0, 100, 0.1)\n",
    "t, theta, x = signal.lsim(state_space_system, U=u_input, T=T)"
   ]
  },
  {
   "cell_type": "code",
   "execution_count": 12,
   "metadata": {},
   "outputs": [
    {
     "data": {
      "text/plain": [
       "(-1, 1)"
      ]
     },
     "execution_count": 12,
     "metadata": {},
     "output_type": "execute_result"
    },
    {
     "data": {
      "image/png": "[encoded data removed]",
      "text/plain": [
       "<Figure size 432x288 with 2 Axes>"
      ]
     },
     "metadata": {
      "needs_background": "light"
     },
     "output_type": "display_data"
    }
   ],
   "source": [
    "fig, axs = plt.subplots(2)\n",
    "\n",
    "axs[0].plot(t, theta)\n",
    "axs[0].set(xlabel='Time (s)', ylabel='Pitch angle (theta)')\n",
    "\n",
    "axs[1].plot(t, u_input)\n",
    "axs[1].set(ylabel='Elevator angle', )\n",
    "axs[1].set_ylim((-1, 1))"
   ]
  },
  {
   "cell_type": "markdown",
   "metadata": {},
   "source": [
    "We clearly see above the phugoid oscillation which has a frequency of about 30s. There is a decay in the oscillation but it's a rather slow decay. The first few seconds looks interesting. Let's zoom of the first 15 seconds."
   ]
  },
  {
   "cell_type": "code",
   "execution_count": 13,
   "metadata": {},
   "outputs": [
    {
     "data": {
      "text/plain": [
       "(0, 15)"
      ]
     },
     "execution_count": 13,
     "metadata": {},
     "output_type": "execute_result"
    },
    {
     "data": {
      "image/png": "[encoded data removed]",
      "text/plain": [
       "<Figure size 432x288 with 2 Axes>"
      ]
     },
     "metadata": {
      "needs_background": "light"
     },
     "output_type": "display_data"
    }
   ],
   "source": [
    "fig, axs = plt.subplots(2)\n",
    "\n",
    "axs[0].plot(t, theta)\n",
    "axs[0].set(xlabel='Time (s)', ylabel='Pitch angle (theta)')\n",
    "axs[0].set_xlim((0,15))\n",
    "\n",
    "axs[1].plot(t, u_input)\n",
    "axs[1].set(ylabel='Elevator angle', )\n",
    "axs[1].set_ylim((-1, 1))\n",
    "axs[0].set_xlim((0,15))"
   ]
  },
  {
   "cell_type": "markdown",
   "metadata": {},
   "source": [
    "Before the start of the phugoid oscillation, we can observe another oscillation with a higher frequency which decays faster. This is the short period oscillation."
   ]
  }
 ],
 "metadata": {
  "kernelspec": {
   "display_name": "Python 3",
   "language": "python",
   "name": "python3"
  },
  "language_info": {
   "codemirror_mode": {
    "name": "ipython",
    "version": 3
   },
   "file_extension": ".py",
   "mimetype": "text/x-python",
   "name": "python",
   "nbconvert_exporter": "python",
   "pygments_lexer": "ipython3",
   "version": "3.7.6"
  }
 },
 "nbformat": 4,
 "nbformat_minor": 4
}
